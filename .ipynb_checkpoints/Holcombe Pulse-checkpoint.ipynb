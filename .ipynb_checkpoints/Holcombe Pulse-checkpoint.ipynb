{
 "cells": [
  {
   "cell_type": "markdown",
   "metadata": {},
   "source": [
    "# Katy OBD for Raspberry Pi"
   ]
  },
  {
   "cell_type": "markdown",
   "metadata": {},
   "source": [
    "## Modules"
   ]
  },
  {
   "cell_type": "code",
   "execution_count": 1,
   "metadata": {},
   "outputs": [],
   "source": [
    "#import max30102\n",
    "import tkinter as tk\n",
    "import time\n",
    "import threading"
   ]
  },
  {
   "cell_type": "markdown",
   "metadata": {},
   "source": [
    "### Helper Functions"
   ]
  },
  {
   "cell_type": "code",
   "execution_count": 3,
   "metadata": {
    "collapsed": true
   },
   "outputs": [],
   "source": [
    "str_rpm = '0'\n",
    "str_speed = '0'\n",
    "\n",
    "str_coolant_temp = '0'\n",
    "str_fuel_level = '0'\n",
    "\n",
    "str_intake_temp = '0'\n",
    "str_throttle_pos = '0'\n",
    "str_intake_pressure = '0'\n",
    "\n",
    "indicator = 0"
   ]
  },
  {
   "cell_type": "code",
   "execution_count": 4,
   "metadata": {},
   "outputs": [],
   "source": [
    "def parsePulse():\n",
    "    global str_rpm, str_speed, str_coolant_temp, str_fuel_level, str_intake_temp, str_throttle_pos, str_intake_pressure, indicator\n",
    "    \n",
    "    while(1):\n",
    "        \n",
    "        # Determine Whether Meet the Requirements\n",
    "        if indicator == 1:\n",
    "            break\n",
    "            \n",
    "        # Parameter Adoptions\n",
    "        cmd_rpm = obd.commands.RPM\n",
    "        cmd_speed = obd.commands.SPEED\n",
    "        cmd_coolant_temp = obd.commands.COOLANT_TEMP\n",
    "        cmd_fuel_level = obd.commands.FUEL_LEVEL\n",
    "        \n",
    "        cmd_intake_temp = obd.commands.INTAKE_TEMP\n",
    "        cmd_throttle_pos = obd.commands.THROTTLE_POS\n",
    "        cmd_intake_pressure = obd.commands.INTAKE_PRESSURE\n",
    "        \n",
    "        # Assignment of Values to Varible 'Response'\n",
    "        response_rpm = connection.query(cmd_rpm)\n",
    "        response_speed = connection.query(cmd_speed)\n",
    "        response_coolant_temp = connection.query(cmd_coolant_temp)\n",
    "        response_fuel_level = connection.query(cmd_fuel_level)  \n",
    "        \n",
    "        response_intake_temp = connection.query(cmd_intake_temp)\n",
    "        response_throttle_pos = connection.query(cmd_throttle_pos)\n",
    "        response_intake_pressure = connection.query(cmd_intake_pressure)  \n",
    "        \n",
    "        # Change Obj to String\n",
    "        str_rpm = str(response_rpm.value)\n",
    "        str_speed = str(response_speed.value)\n",
    "        str_coolant_temp = str(response_coolant_temp.value)\n",
    "        str_fuel_level = str(response_fuel_level.value)   \n",
    "        \n",
    "        str_intake_temp = str(response_intake_temp.value)   \n",
    "        str_throttle_pos = str(response_throttle_pos.value)   \n",
    "        str_intake_pressure = str(response_intake_pressure.value)\n",
    "        \n",
    "        # Delay Parsing Time\n",
    "        time.sleep(0.01) "
   ]
  },
  {
   "cell_type": "code",
   "execution_count": 5,
   "metadata": {
    "collapsed": true
   },
   "outputs": [],
   "source": [
    "def stopParsing():\n",
    "    global indicator\n",
    "    indicator = 1"
   ]
  },
  {
   "cell_type": "code",
   "execution_count": 6,
   "metadata": {
    "collapsed": true
   },
   "outputs": [],
   "source": [
    "def about():\n",
    "    about_root=tk.Tk()\n",
    "    \n",
    "    w = 780 # width for the Tk root\n",
    "    h = 480 # height for the Tk root\n",
    "\n",
    "    # get screen width and height\n",
    "    ws = about_root.winfo_screenwidth() # width of the screen\n",
    "    hs = about_root.winfo_screenheight() # height of the screen\n",
    "\n",
    "    # calculate x and y coordinates for the Tk root window\n",
    "    x = (ws/2) - (w/2)\n",
    "    y = (hs/2) - (h/2)\n",
    "\n",
    "    # set the dimensions of the screen \n",
    "    # and where it is placed\n",
    "    about_root.geometry('%dx%d+%d+%d' % (w, h, x, y))\n",
    "    about_root.title('About Katy OBD')\n",
    "\n",
    "    label_author=tk.Label(about_root,text='Holcombe Pulse Version 1.0', font=('tahoma', 24))\n",
    "    label_author.place(x=200,y=60)\n",
    "\n",
    "    label_author=tk.Label(about_root,text='Copyright (C) 2023', font=('tahoma', 24))\n",
    "    label_author.place(x=225,y=120)\n",
    "    \n",
    "    label_author=tk.Label(about_root,text='Author: Chuan Yang', font=('tahoma', 24))\n",
    "    label_author.place(x=225,y=180)\n",
    "    \n",
    "    label_author=tk.Label(about_root,text='Shengjing Hospital of China Medical University', font=('tahoma', 22))\n",
    "    label_author.place(x=100,y=240)   \n",
    "\n",
    "    button_refresh=tk.Button(about_root, width=15, text='OK', font=('tahoma', 24), command=about_root.destroy)\n",
    "    button_refresh.place(x=230, y=330)\n",
    "\n",
    "    about_root.mainloop()"
   ]
  },
  {
   "cell_type": "markdown",
   "metadata": {},
   "source": [
    "### Thread Management"
   ]
  },
  {
   "cell_type": "code",
   "execution_count": 7,
   "metadata": {},
   "outputs": [],
   "source": [
    "def start_thread(event):\n",
    "    global thread, indicator\n",
    "    \n",
    "    indicator = 0\n",
    "    \n",
    "    thread = threading.Thread(target=parseAuto)\n",
    "    thread.daemon = True\n",
    "    \n",
    "    text_rpm.delete('1.0', tk.END)\n",
    "    text_rpm.insert('1.0', str_rpm)\n",
    "    text_speed.delete('1.0', tk.END)\n",
    "    text_speed.insert('1.0', str_speed)\n",
    "    text_coolant_temp.delete('1.0', tk.END)\n",
    "    text_coolant_temp.insert('1.0', str_coolant_temp)\n",
    "    text_fuel_level.delete('1.0', tk.END)\n",
    "    text_fuel_level.insert('1.0', str_fuel_level)    \n",
    "    \n",
    "    text_intake_temp.delete('1.0', tk.END)\n",
    "    text_intake_temp.insert('1.0', str_intake_temp)    \n",
    "    text_throttle_pos.delete('1.0', tk.END)\n",
    "    text_throttle_pos.insert('1.0', str_throttle_pos)\n",
    "    text_intake_pressure.delete('1.0', tk.END)\n",
    "    text_intake_pressure.insert('1.0', str_intake_pressure)    \n",
    " \n",
    "    thread.start()\n",
    "    root.after(20, check_thread)\n",
    "\n",
    "def check_thread():\n",
    "    if thread.is_alive():\n",
    "        text_rpm.delete('1.0', tk.END)\n",
    "        text_rpm.insert('1.0', str_rpm)\n",
    "        text_speed.delete('1.0', tk.END)\n",
    "        text_speed.insert('1.0', str_speed)\n",
    "        text_coolant_temp.delete('1.0', tk.END)\n",
    "        text_coolant_temp.insert('1.0', str_coolant_temp)\n",
    "        text_fuel_level.delete('1.0', tk.END)\n",
    "        text_fuel_level.insert('1.0', str_fuel_level)    \n",
    "\n",
    "        text_intake_temp.delete('1.0', tk.END)\n",
    "        text_intake_temp.insert('1.0', str_intake_temp)    \n",
    "        text_throttle_pos.delete('1.0', tk.END)\n",
    "        text_throttle_pos.insert('1.0', str_throttle_pos) \n",
    "        text_intake_pressure.delete('1.0', tk.END)\n",
    "        text_intake_pressure.insert('1.0', str_intake_pressure)    \n",
    "        \n",
    "        root.after(20, check_thread)    "
   ]
  },
  {
   "cell_type": "markdown",
   "metadata": {},
   "source": [
    "### TKinter Mainflow"
   ]
  },
  {
   "cell_type": "code",
   "execution_count": 8,
   "metadata": {
    "scrolled": true
   },
   "outputs": [],
   "source": [
    "root = tk.Tk()\n",
    "\n",
    "root.geometry(\"{0}x{1}+0+0\".format(root.winfo_screenwidth(), root.winfo_screenheight()))\n",
    "#root.attributes('-fullscreen', True)\n",
    "root.title('Katy OBD -- On Board Diagnostics Parser')\n",
    "#root.iconbitmap('dna.ico')\n",
    "\n",
    "y0 = 150\n",
    "y1 = 400\n",
    "y2 = 580\n",
    "y3 = 690\n",
    "\n",
    "# Label & Edit Box\n",
    "\n",
    "text_rpm = tk.Text(root, width=10, height=1, font=('tahoma', 80), bd=2, wrap='none')\n",
    "text_rpm.place(x=50, y=y0)\n",
    "label_rpm = tk.Label(root, text='RPM', font=('tahoma', 40))\n",
    "label_rpm.place(x=50,y=y0-100)\n",
    "\n",
    "text_speed = tk.Text(root, width=10, height=1, font=('tahoma', 80), bd=2, wrap='none')\n",
    "text_speed.place(x=750, y=y0)\n",
    "label_speed = tk.Label(root, text='Speed', font=('tahoma', 40))\n",
    "label_speed.place(x=750,y=y0-100)\n",
    "\n",
    "# ////////////////////////////\n",
    "\n",
    "text_coolant_temp = tk.Text(root, width=10, height=1, font=('tahoma', 40), bd=2, wrap='none')\n",
    "text_coolant_temp.place(x=50, y=y1)\n",
    "label_coolant_temp = tk.Label(root, text='Coolant Temperature', font=('tahoma', 30))\n",
    "label_coolant_temp.place(x=50,y=y1-80)\n",
    "\n",
    "text_fuel_level = tk.Text(root, width=17, height=1, font=('tahoma', 40), bd=2, wrap='none')\n",
    "text_fuel_level.place(x=650, y=y1)\n",
    "label_fuel_level = tk.Label(root, text='Fuel Level', font=('tahoma', 30))\n",
    "label_fuel_level.place(x=650,y=y1-80)\n",
    "label_fuel_level_percentage = tk.Label(root, text='%', font=('tahoma', 40))\n",
    "label_fuel_level_percentage.place(x=1200,y=y1)\n",
    "\n",
    "# ////////////////////////////////////\n",
    "\n",
    "text_intake_temp = tk.Text(root, width=10, height=1, font=('tahoma', 30), bd=2, wrap='none')\n",
    "text_intake_temp.place(x=50, y=y2)\n",
    "label_intake_temp = tk.Label(root, text='Intake Air Temperature', font=('tahoma', 25))\n",
    "label_intake_temp.place(x=50,y=y2-70)\n",
    "\n",
    "text_intake_pressure = tk.Text(root, width=15, height=1, font=('tahoma', 30), bd=2, wrap='none')\n",
    "text_intake_pressure.place(x=500, y=y2)\n",
    "label_intake_pressure = tk.Label(root, text='Intake Manifold Pressure', font=('tahoma', 25))\n",
    "label_intake_pressure.place(x=500,y=y2-70)\n",
    "\n",
    "text_throttle_pos = tk.Text(root, width=10, height=1, font=('tahoma', 30), bd=2, wrap='none')\n",
    "text_throttle_pos.place(x=1020, y=y2)\n",
    "label_throttle_pos = tk.Label(root, text='Throttle Position', font=('tahoma', 25))\n",
    "label_throttle_pos.place(x=1020,y=y2-70)\n",
    "label_throttle_pos_percentage = tk.Label(root, text='%', font=('tahoma', 30))\n",
    "label_throttle_pos_percentage.place(x=1300,y=y2)\n",
    "\n",
    "# Buttons\n",
    "\n",
    "button_start = tk.Button(root, text=\"Start\", width=12, font=('tahoma', 30), command=lambda:start_thread(None))\n",
    "button_start.place(x=50, y=y3)\n",
    "\n",
    "button_stop = tk.Button(root, text=\"Stop\", width=12, font=('tahoma', 30), command=stopParsing)\n",
    "button_stop.place(x=400, y=y3)\n",
    "\n",
    "button_about = tk.Button(root, text=\"About...\", width=12, font=('tahoma', 30), command=about)\n",
    "button_about.place(x=745, y=y3)\n",
    "\n",
    "button_exit = tk.Button(root, text=\"Exit\", width=10, font=('tahoma', 30), command=root.destroy)\n",
    "button_exit.place(x=1100, y=y3)\n",
    "\n",
    "root.bind('<Return>', start_thread)\n",
    "\n",
    "root.mainloop()"
   ]
  }
 ],
 "metadata": {
  "anaconda-cloud": {},
  "kernelspec": {
   "display_name": "Python 3",
   "language": "python",
   "name": "python3"
  },
  "language_info": {
   "codemirror_mode": {
    "name": "ipython",
    "version": 3
   },
   "file_extension": ".py",
   "mimetype": "text/x-python",
   "name": "python",
   "nbconvert_exporter": "python",
   "pygments_lexer": "ipython3",
   "version": "3.7.3"
  }
 },
 "nbformat": 4,
 "nbformat_minor": 1
}
