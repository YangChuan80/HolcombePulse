{
 "cells": [
  {
   "cell_type": "markdown",
   "metadata": {},
   "source": [
    "# Holcombe Pulse"
   ]
  },
  {
   "cell_type": "markdown",
   "metadata": {},
   "source": [
    "## Modules"
   ]
  },
  {
   "cell_type": "code",
   "execution_count": 100,
   "metadata": {},
   "outputs": [],
   "source": [
    "#import max30102\n",
    "import hrcalc\n",
    "\n",
    "import tkinter as tk\n",
    "import time\n",
    "import threading"
   ]
  },
  {
   "cell_type": "markdown",
   "metadata": {},
   "source": [
    "### Sensor Connection"
   ]
  },
  {
   "cell_type": "code",
   "execution_count": 101,
   "metadata": {},
   "outputs": [],
   "source": [
    "#m = max30102.MAX30102() # sensor initialization"
   ]
  },
  {
   "cell_type": "markdown",
   "metadata": {},
   "source": [
    "### Helper Functions"
   ]
  },
  {
   "cell_type": "code",
   "execution_count": 102,
   "metadata": {},
   "outputs": [],
   "source": [
    "str_hr = '0'\n",
    "str_spo2 = '0'\n",
    "\n",
    "indicator = 0"
   ]
  },
  {
   "cell_type": "code",
   "execution_count": 103,
   "metadata": {},
   "outputs": [],
   "source": [
    "def parsePulse():\n",
    "    global red, ir, indicator, str_hr, str_spo2\n",
    "    \n",
    "    while(1):\n",
    "        \n",
    "        # Determine Whether Meet the Requirements\n",
    "        if indicator == 1:\n",
    "            break\n",
    "            \n",
    "        # Parameter Adoptions\n",
    "        red, ir = m.read_sequential() # get LEDs readings\n",
    "        d = hrcalc.calc_hr_and_spo2(ir[:100], red[:100]) # give 100 values\n",
    "        print('心率', d[0], '     血氧', d[2], '%')\n",
    "        \n",
    "        response_hr = d[0]\n",
    "        response_spo2 = d[2]\n",
    "        \n",
    "        # Change Obj to String\n",
    "        str_hr = str(response_hr)\n",
    "        str_spo2 = str(response_spo2)\n",
    "        \n",
    "        # Delay Parsing Time\n",
    "        time.sleep(0.01) "
   ]
  },
  {
   "cell_type": "code",
   "execution_count": 104,
   "metadata": {},
   "outputs": [],
   "source": [
    "def stopParsing():\n",
    "    global indicator\n",
    "    indicator = 1"
   ]
  },
  {
   "cell_type": "code",
   "execution_count": 105,
   "metadata": {},
   "outputs": [],
   "source": [
    "def about():\n",
    "    about_root=tk.Tk()\n",
    "    \n",
    "    w = 780 # width for the Tk root\n",
    "    h = 480 # height for the Tk root\n",
    "\n",
    "    # get screen width and height\n",
    "    ws = about_root.winfo_screenwidth() # width of the screen\n",
    "    hs = about_root.winfo_screenheight() # height of the screen\n",
    "\n",
    "    # calculate x and y coordinates for the Tk root window\n",
    "    x = (ws/2) - (w/2)\n",
    "    y = (hs/2) - (h/2)\n",
    "\n",
    "    # set the dimensions of the screen \n",
    "    # and where it is placed\n",
    "    about_root.geometry('%dx%d+%d+%d' % (w, h, x, y))\n",
    "    about_root.title('About Holcombe Pulse')\n",
    "\n",
    "    label_author=tk.Label(about_root,text='Holcombe Pulse Version 1.0', font=('tahoma', 24))\n",
    "    label_author.place(x=200,y=60)\n",
    "\n",
    "    label_author=tk.Label(about_root,text='Copyright (C) 2023', font=('tahoma', 24))\n",
    "    label_author.place(x=225,y=120)\n",
    "    \n",
    "    label_author=tk.Label(about_root,text='Author: Chuan Yang', font=('tahoma', 24))\n",
    "    label_author.place(x=225,y=180)\n",
    "    \n",
    "    label_author=tk.Label(about_root,text='Shengjing Hospital of China Medical University', font=('tahoma', 22))\n",
    "    label_author.place(x=100,y=240)   \n",
    "\n",
    "    button_refresh=tk.Button(about_root, width=15, text='OK', font=('tahoma', 24), command=about_root.destroy)\n",
    "    button_refresh.place(x=230, y=330)\n",
    "\n",
    "    about_root.mainloop()"
   ]
  },
  {
   "cell_type": "markdown",
   "metadata": {},
   "source": [
    "### Thread Management"
   ]
  },
  {
   "cell_type": "code",
   "execution_count": 106,
   "metadata": {},
   "outputs": [],
   "source": [
    "def start_thread(event):\n",
    "    global thread, indicator, str_hr, str_spo2\n",
    "    \n",
    "    indicator = 0\n",
    "    \n",
    "    thread = threading.Thread(target=parsePulse)\n",
    "    thread.daemon = True\n",
    "    \n",
    "    text_hr.delete('1.0', tk.END)\n",
    "    text_hr.insert('1.0', str_hr)\n",
    "    \n",
    "    text_spo2.delete('1.0', tk.END)\n",
    "    text_spo2.insert('1.0', str_spo2)\n",
    "    \n",
    " \n",
    "    thread.start()\n",
    "    root.after(20, check_thread)\n",
    "\n",
    "def check_thread():\n",
    "    \n",
    "    if thread.is_alive():\n",
    "        \n",
    "        text_hr.delete('1.0', tk.END)\n",
    "        text_hr.insert('1.0', str_hr)\n",
    "    \n",
    "        text_spo2.delete('1.0', tk.END)\n",
    "        text_spo2.insert('1.0', str_spo2)\n",
    "    \n",
    "        root.after(20, check_thread)    "
   ]
  },
  {
   "cell_type": "markdown",
   "metadata": {},
   "source": [
    "### TKinter Mainflow"
   ]
  },
  {
   "cell_type": "code",
   "execution_count": 107,
   "metadata": {
    "scrolled": true
   },
   "outputs": [],
   "source": [
    "root = tk.Tk()\n",
    "\n",
    "root.geometry(\"{0}x{1}+0+0\".format(root.winfo_screenwidth(), root.winfo_screenheight()))\n",
    "#root.attributes('-fullscreen', True)\n",
    "root.title('Holcombe Pulse -- Pulse Diagnostics Parser')\n",
    "#root.iconbitmap('dna.ico')\n",
    "\n",
    "y0 = 150\n",
    "y1 = 400\n",
    "y2 = 580\n",
    "y3 = 690\n",
    "\n",
    "# Label & Edit Box\n",
    "\n",
    "text_hr = tk.Text(root, width=5, height=1, font=('tahoma', 80), \n",
    "                  foreground=\"green\", bd=2, wrap='none')\n",
    "text_hr.place(x=300, y=y0)\n",
    "\n",
    "label_hr = tk.Label(root, text='HR', font=('tahoma', 60))\n",
    "label_hr.place(x=50,y=y0)\n",
    "\n",
    "label_bpm = tk.Label(root, text='bpm', font=('tahoma', 60))\n",
    "label_bpm.place(x=650,y=y0)\n",
    "\n",
    "\n",
    "text_spo2 = tk.Text(root, width=5, height=1, font=('tahoma', 80), \n",
    "                    foreground=\"blue\", bd=2, wrap='none')\n",
    "text_spo2.place(x=280, y=y1)\n",
    "\n",
    "label_spo2 = tk.Label(root, text='SpO2', font=('tahoma', 60))\n",
    "label_spo2.place(x=50,y=y1)\n",
    "\n",
    "label_percentage = tk.Label(root, text='%', font=('tahoma', 60))\n",
    "label_percentage.place(x=650,y=y1)\n",
    "\n",
    "# Buttons\n",
    "\n",
    "button_start = tk.Button(root, text=\"Start\", width=12, font=('tahoma', 30), command=lambda:start_thread(None))\n",
    "button_start.place(x=50, y=y3)\n",
    "\n",
    "button_about = tk.Button(root, text=\"About...\", width=12, font=('tahoma', 30), command=about)\n",
    "button_about.place(x=400, y=y3)\n",
    "\n",
    "button_exit = tk.Button(root, text=\"Exit\", width=10, font=('tahoma', 30), command=root.destroy)\n",
    "button_exit.place(x=745, y=y3)\n",
    "\n",
    "root.bind('<Return>', start_thread)\n",
    "\n",
    "root.mainloop()"
   ]
  }
 ],
 "metadata": {
  "anaconda-cloud": {},
  "kernelspec": {
   "display_name": "Python 3",
   "language": "python",
   "name": "python3"
  },
  "language_info": {
   "codemirror_mode": {
    "name": "ipython",
    "version": 3
   },
   "file_extension": ".py",
   "mimetype": "text/x-python",
   "name": "python",
   "nbconvert_exporter": "python",
   "pygments_lexer": "ipython3",
   "version": "3.7.3"
  }
 },
 "nbformat": 4,
 "nbformat_minor": 1
}
